{
 "cells": [
  {
   "cell_type": "markdown",
   "metadata": {},
   "source": [
    "- concatenar: .extend\n",
    "- remover itens: .pop\n",
    "- adicionar itens: .append"
   ]
  },
  {
   "cell_type": "markdown",
   "metadata": {},
   "source": [
    "- for i a caminha por uma lista\n",
    "- o parametro range é um intervalo na função"
   ]
  },
  {
   "cell_type": "code",
   "execution_count": null,
   "metadata": {},
   "outputs": [],
   "source": [
    "for horas in range(24):\n",
    "    for minutos in range(60):\n",
    "        for segundos in range(60):\n",
    "            print(f\"{horas:02}:{minutos:02}:{segundos:02}\")"
   ]
  },
  {
   "cell_type": "code",
   "execution_count": null,
   "metadata": {},
   "outputs": [],
   "source": [
    "for i in range(10):\n",
    "    print(i)"
   ]
  },
  {
   "cell_type": "code",
   "execution_count": null,
   "metadata": {},
   "outputs": [],
   "source": [
    "numero = 10\n",
    "i = 0\n",
    "    while i <= numero:\n",
    "        print(i)\n",
    "        i += 1"
   ]
  },
  {
   "cell_type": "code",
   "execution_count": null,
   "metadata": {},
   "outputs": [],
   "source": [
    "fila = []\n",
    "\n",
    "while True:\n",
    "    op = input(\"Digite SIM para adicionar na fila ou NÂO para remover da fila ou aperte SAIR para sair do programa: \")\n",
    "\n",
    "    if op == \"SIM\":\n",
    "        nome = input(\"Digite o nome a ser adicionado: \")\n",
    "        fila.append(nome)\n",
    "    elif op ==\"NÃO\":\n",
    "        removido = fila.pop(0)\n",
    "        print(f\"{removido} foi atendido!\")\n",
    "    elif op == \"SAIR\":\n",
    "        break\n",
    "    else:\n",
    "        print(\"Codigo inválido\")\n",
    "    print(fila) \n"
   ]
  },
  {
   "cell_type": "code",
   "execution_count": 6,
   "metadata": {},
   "outputs": [
    {
     "name": "stdout",
     "output_type": "stream",
     "text": [
      "['8']\n",
      "['8', '8']\n",
      "['8', '8', '8']\n",
      "['8', '8', '8', '8']\n",
      "['8', '8', '8', '8', '8']\n",
      "['8', '8', '8', '8', '8', '8']\n",
      "['8', '8', '8', '8', '8', '8', '8']\n",
      "['8', '8', '8', '8', '8', '8', '8', '8']\n",
      "['8', '8', '8', '8', '8', '8', '8', '8', '8']\n",
      "['8', '8', '8', '8', '8', '8', '8', '8', '8', '8']\n",
      "['8', '8', '8', '8', '8', '8', '8', '8', '8', '8', '8']\n",
      "A media das notas é igual a 8.0\n"
     ]
    }
   ],
   "source": [
    "notas = []\n",
    "qtdNotas = 10\n",
    "soma = 0\n",
    "media = 0\n",
    "\n",
    "while True:\n",
    "    if len(notas) <= qtdNotas:\n",
    "        nNotas = input(\"Digite o valor de suas notas: \")\n",
    "        notas.append(nNotas)\n",
    "    else:\n",
    "        break\n",
    "    print(notas)\n",
    "for nota in notas:\n",
    "    soma += int(nota)\n",
    "\n",
    "media = soma / len(notas)\n",
    "print(f\"A media das notas é igual a {media}\")\n",
    "\n",
    "\n"
   ]
  }
 ],
 "metadata": {
  "kernelspec": {
   "display_name": "Python 3",
   "language": "python",
   "name": "python3"
  },
  "language_info": {
   "codemirror_mode": {
    "name": "ipython",
    "version": 3
   },
   "file_extension": ".py",
   "mimetype": "text/x-python",
   "name": "python",
   "nbconvert_exporter": "python",
   "pygments_lexer": "ipython3",
   "version": "3.12.3"
  }
 },
 "nbformat": 4,
 "nbformat_minor": 2
}
