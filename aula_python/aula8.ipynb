{
 "cells": [
  {
   "cell_type": "code",
   "execution_count": 15,
   "metadata": {},
   "outputs": [
    {
     "name": "stdout",
     "output_type": "stream",
     "text": [
      "0\n",
      "3\n",
      "6\n",
      "9\n"
     ]
    }
   ],
   "source": [
    "aux = 0\n",
    "limite = int(input(\"Escolha um número para ser o limite da sua conta: \"))\n",
    "while aux < limite+1:\n",
    "    if aux % 3 == 0:\n",
    "        print(aux)\n",
    "    aux+=1\n"
   ]
  },
  {
   "cell_type": "code",
   "execution_count": 23,
   "metadata": {},
   "outputs": [
    {
     "name": "stdout",
     "output_type": "stream",
     "text": [
      "Chute mais alto\n",
      "Chute mais baixo\n",
      "Parabens, você acertou o número secreto que é: 7\n"
     ]
    }
   ],
   "source": [
    "import random\n",
    "\n",
    "numeroAleatorio = random.randint(1, 10)\n",
    "tentativa = 0\n",
    "while True:\n",
    "    chute = int(input(\"Escolha um número entre 0 e 10\"))\n",
    "\n",
    "    if chute == numeroAleatorio:\n",
    "        print(f\"Parabens, você acertou o número secreto que é: {numeroAleatorio}\")\n",
    "        break\n",
    "    elif(chute < numeroAleatorio):\n",
    "        print(\"Chute mais alto\")\n",
    "    else:\n",
    "\n",
    "        print('Chute mais baixo')\n",
    "    tentativa +=1"
   ]
  },
  {
   "cell_type": "code",
   "execution_count": null,
   "metadata": {},
   "outputs": [],
   "source": [
    "palavraSecreta = \"PATO\"\n",
    "print(\"A palavra tem 4 letras\")\n",
    "\n",
    "while True\n",
    "    chute = input(\"Escolha uma letra: \")\n",
    "\n",
    "    if chute == \"P\":\n",
    "        print"
   ]
  },
  {
   "cell_type": "markdown",
   "metadata": {},
   "source": [
    "## Aula revisão"
   ]
  },
  {
   "cell_type": "code",
   "execution_count": null,
   "metadata": {},
   "outputs": [],
   "source": [
    "soma = 0\n",
    "while True:\n",
    "    quantidade = int(input(\"Escolha a quantidade de produtos\"))\n",
    "    codigo = int(input(\"Escolha um dos códigos exibidos: \"))\n",
    "\n",
    "    if codigo == 1:\n",
    "        print(0.50 * quantidade)    \n",
    "    elif codigo == 2:\n",
    "        print(1.00 * quantidade)\n",
    "    elif codigo == 3:\n",
    "        print(4.00 * quantidade)\n",
    "    elif codigo == 5:\n",
    "        print(7.00 * quantidade)\n",
    "    elif codigo == 9:\n",
    "        print(8.00 * quantidade)\n",
    "    elif codigo == 0:\n",
    "        break\n",
    "        print(\"Você saiu\")\n",
    "    else:\n",
    "        print(\"Código inválido\")\n",
    "    \n",
    "    soma = soma + valor\n",
    "    \n",
    "print(f\"O valor total é R${soma}\")\n",
    "\n",
    " \n"
   ]
  },
  {
   "cell_type": "code",
   "execution_count": 10,
   "metadata": {},
   "outputs": [
    {
     "name": "stdout",
     "output_type": "stream",
     "text": [
      "\n"
     ]
    }
   ],
   "source": [
    "palavra = input(\"Escolha uma palavra: \")\n",
    "\n",
    "\n"
   ]
  },
  {
   "cell_type": "code",
   "execution_count": null,
   "metadata": {},
   "outputs": [],
   "source": [
    "palavra = \"Aprender\"\n",
    "aux = 0\n",
    "\n",
    "while limite > aux:\n",
    "    print(f\"{palavra[aux]}\")\n",
    "    aux +=1\n",
    "\n",
    "\n"
   ]
  },
  {
   "cell_type": "code",
   "execution_count": null,
   "metadata": {},
   "outputs": [],
   "source": [
    "contador = 0\n",
    "limite = 10\n",
    "\n",
    "while contador < limite:\n",
    "    print(contador)\n",
    "    contador +=1"
   ]
  },
  {
   "cell_type": "code",
   "execution_count": 27,
   "metadata": {},
   "outputs": [
    {
     "name": "stdout",
     "output_type": "stream",
     "text": [
      "Seu número não é primo\n"
     ]
    }
   ],
   "source": [
    "numero = int(input(\"Escolha um número aleatório\"))\n",
    "aux = 0\n",
    "\n",
    "while numero > 0:\n",
    "    "
   ]
  }
 ],
 "metadata": {
  "kernelspec": {
   "display_name": "Python 3",
   "language": "python",
   "name": "python3"
  },
  "language_info": {
   "codemirror_mode": {
    "name": "ipython",
    "version": 3
   },
   "file_extension": ".py",
   "mimetype": "text/x-python",
   "name": "python",
   "nbconvert_exporter": "python",
   "pygments_lexer": "ipython3",
   "version": "3.12.3"
  }
 },
 "nbformat": 4,
 "nbformat_minor": 2
}
