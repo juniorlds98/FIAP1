{
 "cells": [
  {
   "cell_type": "markdown",
   "metadata": {},
   "source": [
    "## Exemplo de repetição"
   ]
  },
  {
   "cell_type": "code",
   "execution_count": null,
   "metadata": {},
   "outputs": [],
   "source": [
    "A = 1\n",
    "Enquanto A < 10\n",
    "Escreva A\n",
    "A = A + 1\n",
    "\n",
    "ou \n",
    "\n",
    "A = 1\n",
    "while A < 10:\n",
    "    print(A)\n",
    "    A = A + 1"
   ]
  },
  {
   "cell_type": "markdown",
   "metadata": {},
   "source": [
    "## Print com repetição"
   ]
  },
  {
   "cell_type": "code",
   "execution_count": null,
   "metadata": {},
   "outputs": [],
   "source": [
    "A = 1\n",
    "while A <= 100:\n",
    "    print(A)\n",
    "    A = A + 1"
   ]
  },
  {
   "cell_type": "markdown",
   "metadata": {},
   "source": [
    "#### Outra opção"
   ]
  },
  {
   "cell_type": "code",
   "execution_count": null,
   "metadata": {},
   "outputs": [],
   "source": [
    "for i in range (50,101):\n",
    "    print(i)"
   ]
  },
  {
   "cell_type": "code",
   "execution_count": null,
   "metadata": {},
   "outputs": [],
   "source": [
    "A = 50\n",
    "while A <= 100:\n",
    "    print(A)\n",
    "    A = A + 1"
   ]
  },
  {
   "cell_type": "markdown",
   "metadata": {},
   "source": [
    "## Contagem reversa"
   ]
  },
  {
   "cell_type": "code",
   "execution_count": null,
   "metadata": {},
   "outputs": [],
   "source": [
    "A = 10\n",
    "while A > -1:\n",
    "    print(A)\n",
    "    A = A - 1\n",
    "print(\"Fogo\")"
   ]
  },
  {
   "cell_type": "markdown",
   "metadata": {},
   "source": [
    "## Código para printar de par em par"
   ]
  },
  {
   "cell_type": "code",
   "execution_count": null,
   "metadata": {},
   "outputs": [],
   "source": [
    "i = 11\n",
    "primeiroNumero = 1\n",
    "while primeiroNumero < i:\n",
    "    if primeiroNumero%2 == 0:\n",
    "        print(primeiroNumero)\n",
    "    primeiroNumero+=1"
   ]
  },
  {
   "cell_type": "markdown",
   "metadata": {},
   "source": [
    "## Somar todos os números do intervalos"
   ]
  },
  {
   "cell_type": "code",
   "execution_count": null,
   "metadata": {},
   "outputs": [],
   "source": [
    "x = 1\n",
    "y = 0\n",
    "while x < 101:\n",
    "    y = y+x\n",
    "    x= x+1\n",
    "print(y)"
   ]
  },
  {
   "cell_type": "markdown",
   "metadata": {},
   "source": [
    "## Printar de 1 até 10 só os pares e somar entre eles"
   ]
  },
  {
   "cell_type": "code",
   "execution_count": null,
   "metadata": {},
   "outputs": [],
   "source": [
    "inicio = 1\n",
    "fim = 10\n",
    "soma = 0\n",
    "while inicio <= fim:\n",
    "    if inicio % 2 ==0:\n",
    "        soma = soma + inicio\n",
    "    inicio = inicio + 1\n",
    "print(soma)"
   ]
  },
  {
   "cell_type": "code",
   "execution_count": null,
   "metadata": {},
   "outputs": [],
   "source": [
    "depositoInicial = int(input(\"Qual foi o deposito inicial: \"))\n",
    "aux = depositoInicial\n",
    "taxaJuros = 2.5/100 + 1\n",
    "valorGanho = 0\n",
    "meses = 24\n",
    "primeiroMes = 1\n",
    "while primeiroMes <= meses:\n",
    "    depositoInicial = depositoInicial*taxaJuros\n",
    "    print(depositoInicial - aux)\n",
    "    primeiroMes +=1\n",
    "valorGanho = depositoInicial - aux\n",
    "\n",
    "print(depositoInicial)"
   ]
  },
  {
   "cell_type": "markdown",
   "metadata": {},
   "source": [
    "## Resolução"
   ]
  },
  {
   "cell_type": "code",
   "execution_count": null,
   "metadata": {},
   "outputs": [],
   "source": [
    "dep_inicial = float(input(\"Digite o valor inicial do investimento: \"))\n",
    "dep = dep_inicial\n",
    "taxa = float(input(\"Digite a taxa de juros: \"))/100\n",
    "taxa = 1/100\n",
    "i = 1\n",
    "while i <= 24:\n",
    "    dep = dep*(1+taxa) + 5000\n",
    "    print(f\"Mês {i}: valor total R${dep: 2f}\")\n",
    "    i = i + 1\n",
    "print (f\"O montante total é de R${dep: .2f} e o ganho foi de {dep-dep_inicial:.2f}\")\n"
   ]
  },
  {
   "cell_type": "markdown",
   "metadata": {},
   "source": [
    "#### Interferir no loop com Break e continue\n",
    "\n",
    "- Break interrompe a execução do while independente do valor\n",
    "\n",
    "- continue que a próxima execução do while"
   ]
  },
  {
   "cell_type": "code",
   "execution_count": null,
   "metadata": {},
   "outputs": [],
   "source": [
    "i = 1\n",
    "while i <= 10:\n",
    "    if i ==7:\n",
    "        break\n",
    "    print(i)\n",
    "    i += 1"
   ]
  },
  {
   "cell_type": "markdown",
   "metadata": {},
   "source": [
    "## Repetir inputs"
   ]
  },
  {
   "cell_type": "code",
   "execution_count": null,
   "metadata": {},
   "outputs": [],
   "source": [
    "cont = 1\n",
    "soma = 0\n",
    "media = 0\n",
    "while cont <= 10:\n",
    "    valor = int(input(\"Digite um valor\"))\n",
    "    print(valor)\n",
    "    soma = soma + valor \n",
    "    cont += 1\n",
    "media = soma/10\n",
    "print(f\"A media dos 10 valores é {media}\")   \n"
   ]
  },
  {
   "cell_type": "markdown",
   "metadata": {},
   "source": [
    "## Break usado na prática"
   ]
  },
  {
   "cell_type": "code",
   "execution_count": null,
   "metadata": {},
   "outputs": [],
   "source": [
    "cont = 1\n",
    "soma = 0\n",
    "media = 0\n",
    "while cont <= 10:\n",
    "    valor = int(input(\"Digite um valor\"))\n",
    "    print(valor)\n",
    "    if valor == 0:\n",
    "        print (\"Você digitou o valor proíbido, o zero!!\")\n",
    "        break\n",
    "    soma = soma + valor \n",
    "    cont += 1\n",
    "media = soma/10\n",
    "print(f\"A media dos 10 valores é {media}\")   "
   ]
  },
  {
   "cell_type": "code",
   "execution_count": null,
   "metadata": {},
   "outputs": [],
   "source": [
    "cont = 0\n",
    "soma = 0\n",
    "media = 0\n",
    "while True:\n",
    "    valor = int(input(\"Digite um valor\"))\n",
    "    soma = soma + valor\n",
    "    cont+=1\n",
    "    if valor == 0:\n",
    "        print (\"Você digitou o valor proíbido, o zero!!\")\n",
    "        break\n",
    "media = soma/cont\n",
    "print(f\"A soma de todos os valores é: {soma} e a média é: {media: .2f} e a quantidade de números digitados é {cont}\")"
   ]
  },
  {
   "cell_type": "code",
   "execution_count": 1,
   "metadata": {},
   "outputs": [
    {
     "ename": "ValueError",
     "evalue": "invalid literal for int() with base 10: ''",
     "output_type": "error",
     "traceback": [
      "\u001b[1;31m---------------------------------------------------------------------------\u001b[0m",
      "\u001b[1;31mValueError\u001b[0m                                Traceback (most recent call last)",
      "Cell \u001b[1;32mIn[1], line 1\u001b[0m\n\u001b[1;32m----> 1\u001b[0m numero1 \u001b[38;5;241m=\u001b[39m \u001b[38;5;28;43mint\u001b[39;49m\u001b[43m(\u001b[49m\u001b[38;5;28;43minput\u001b[39;49m\u001b[43m(\u001b[49m\u001b[38;5;124;43m\"\u001b[39;49m\u001b[38;5;124;43mDigite o primeiro valor: \u001b[39;49m\u001b[38;5;124;43m\"\u001b[39;49m\u001b[43m)\u001b[49m\u001b[43m)\u001b[49m\n\u001b[0;32m      2\u001b[0m numero2 \u001b[38;5;241m=\u001b[39m \u001b[38;5;28mint\u001b[39m(\u001b[38;5;28minput\u001b[39m(\u001b[38;5;124m\"\u001b[39m\u001b[38;5;124mDigite o segundo valor: \u001b[39m\u001b[38;5;124m\"\u001b[39m))\n\u001b[0;32m      3\u001b[0m operacao \u001b[38;5;241m=\u001b[39m (\u001b[38;5;28minput\u001b[39m(\u001b[38;5;124m\"\u001b[39m\u001b[38;5;124mQual operação você quer fazer, escolha entre (+, -, *, /) ou digite sair: \u001b[39m\u001b[38;5;124m\"\u001b[39m))\n",
      "\u001b[1;31mValueError\u001b[0m: invalid literal for int() with base 10: ''"
     ]
    }
   ],
   "source": [
    "while True:\n",
    "    operacao = (input(\"Qual operação você quer fazer, escolha entre (+, -, *, /) ou digite sair: \"))\n",
    "    if operacao == \"sair\":\n",
    "        print(\"Até logo!\")\n",
    "        break\n",
    "    elif operacao != \"sair\":\n",
    "        numero1 = int(input(\"Digite o primeiro valor: \"))\n",
    "        numero2 = int(input(\"Digite o segundo valor: \"))\n",
    "    if operacao == \"/\":\n",
    "        divisao = numero1 / numero2\n",
    "        print(divisao)\n",
    "    elif operacao == \"*\":\n",
    "        multiplicacao = numero1 * numero2\n",
    "        print(multiplicacao)\n",
    "    elif operacao == \"+\":\n",
    "        soma = numero1 + numero2\n",
    "        print(soma)\n",
    "    elif operacao == \"-\":\n",
    "        subtracao = numero1 - numero2\n",
    "        print(subtracao)\n",
    "    else:\n",
    "        print(\"Operação não funciona\")"
   ]
  }
 ],
 "metadata": {
  "kernelspec": {
   "display_name": "Python 3",
   "language": "python",
   "name": "python3"
  },
  "language_info": {
   "codemirror_mode": {
    "name": "ipython",
    "version": 3
   },
   "file_extension": ".py",
   "mimetype": "text/x-python",
   "name": "python",
   "nbconvert_exporter": "python",
   "pygments_lexer": "ipython3",
   "version": "3.12.3"
  }
 },
 "nbformat": 4,
 "nbformat_minor": 2
}
