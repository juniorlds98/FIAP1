{
 "cells": [
  {
   "cell_type": "markdown",
   "metadata": {},
   "source": [
    "Aula 13"
   ]
  },
  {
   "cell_type": "markdown",
   "metadata": {},
   "source": [
    "Exercicio 1 e 2 da aula passada\n"
   ]
  },
  {
   "cell_type": "code",
   "execution_count": null,
   "metadata": {},
   "outputs": [],
   "source": [
    "def deposito(valor):\n",
    "    global saldo\n",
    "    global transacoes\n",
    "\n",
    "    saldo = saldo + valor\n",
    "    transacoes.append(valor)\n",
    "\n",
    "def sacar(valor):\n",
    "    global saldo\n",
    "    global transacoes\n",
    "\n",
    "    saldo = saldo - valor\n",
    "    transacoes.append(- valor)\n",
    "\n",
    "def extrato():\n",
    "    for i in transacoes:\n",
    "        print(i)\n",
    "    print(f\"Saldo final {saldo}\")\n",
    "\n",
    "saldo = 0\n",
    "transacoes = []\n",
    "\n",
    "while True:\n",
    "    op = input(\"Digite: 1 para depositar; 2 para sacar; 3 para extrato; 0 para sair\")\n",
    "\n",
    "    if op == 1:\n",
    "        valor = float(input(\"Digite o valor a ser depositado: \"))\n",
    "        deposito(valor)\n",
    "    elif op == 2:\n",
    "        valor = float(input(\"Digite o valor a ser sacado: \"))\n",
    "        sacar(valor)\n",
    "    elif op == 3:\n",
    "        print(extrato)\n",
    "    elif op == 0:\n",
    "        break\n",
    "    else:\n",
    "        (\"Operação inválida!\")\n"
   ]
  },
  {
   "cell_type": "markdown",
   "metadata": {},
   "source": [
    "def adicionar_produto(produto)"
   ]
  },
  {
   "cell_type": "code",
   "execution_count": null,
   "metadata": {},
   "outputs": [],
   "source": [
    "def adicionar_produto(produto):\n",
    "    global carrinho\n",
    "    carrinho.append(produto)\n",
    "\n",
    "\n",
    "def remover_produto(produto):\n",
    "    global carrinho\n",
    "    for i in range(len(carrinho)):\n",
    "        if carrinho[i] == produto:\n",
    "            carrinho.pop(i)\n",
    "\n",
    "\n",
    "def ver_carrinho():\n",
    "    for i in carrinho:\n",
    "        print(i)\n",
    "\n",
    "carrinho = []\n",
    "\n",
    "while True:\n",
    "    if op == 1:\n",
    "        produto = input()"
   ]
  },
  {
   "cell_type": "markdown",
   "metadata": {},
   "source": [
    "Módulos"
   ]
  },
  {
   "cell_type": "markdown",
   "metadata": {},
   "source": [
    "VOcê usa o import e nomeDoModulo e para chamar a função você passa NomeDoModulo.NomeDaFuncao(arg.)\n",
    "\n",
    "pode importar por from NomeDoModulo import *"
   ]
  },
  {
   "cell_type": "code",
   "execution_count": 2,
   "metadata": {},
   "outputs": [
    {
     "name": "stdout",
     "output_type": "stream",
     "text": [
      "Ola usuário, você gostaria de dobrar suas apostas\n",
      "6\n"
     ]
    }
   ],
   "source": [
    "import aula13\n",
    "\n",
    "print(\"Ola usuário, você gostaria de dobrar suas apostas\")\n",
    "\n",
    "c = aula13.dobro(3)\n",
    "\n",
    "print(c)"
   ]
  },
  {
   "cell_type": "code",
   "execution_count": null,
   "metadata": {},
   "outputs": [],
   "source": [
    "from aula13 import dobro, triplo\n",
    "\n",
    "print(\"Ola usuário, você gostaria de dobrar suas apostas\")\n",
    "\n",
    "c = dobro(3)\n",
    "d = triplo(4)\n",
    "\n",
    "print(c)\n"
   ]
  },
  {
   "cell_type": "markdown",
   "metadata": {},
   "source": [
    "pyplot matplotlib para fazer gráficos"
   ]
  },
  {
   "cell_type": "code",
   "execution_count": null,
   "metadata": {},
   "outputs": [],
   "source": [
    "from aula13 import soma\n",
    "\n",
    "def calculadora():\n",
    "    while True:\n",
    "        operacao = int(input(\"Escolha qual operação você quer fazer: 1. Soma; 2. Subtração: \"))\n",
    "        num1 = int(input(\"Escolha o primeiro número: \"))\n",
    "        num2 = int(input(\"Escolha o segundo número: \"))\n",
    "        if operacao == 1:\n",
    "            soma(num1, num2)\n",
    "        elif operacao == 2:\n",
    "            sub(num1,num2)\n",
    "        elif operacao == 0:\n",
    "            print(\"Até logo\")\n",
    "            break\n",
    "        else:\n",
    "            print(\"Escolha uma operação válida\")\n",
    "calculadora()\n"
   ]
  },
  {
   "cell_type": "markdown",
   "metadata": {},
   "source": [
    "Exercicio 1"
   ]
  },
  {
   "cell_type": "code",
   "execution_count": null,
   "metadata": {},
   "outputs": [],
   "source": []
  }
 ],
 "metadata": {
  "kernelspec": {
   "display_name": "base",
   "language": "python",
   "name": "python3"
  },
  "language_info": {
   "codemirror_mode": {
    "name": "ipython",
    "version": 3
   },
   "file_extension": ".py",
   "mimetype": "text/x-python",
   "name": "python",
   "nbconvert_exporter": "python",
   "pygments_lexer": "ipython3",
   "version": "3.12.3"
  }
 },
 "nbformat": 4,
 "nbformat_minor": 2
}
