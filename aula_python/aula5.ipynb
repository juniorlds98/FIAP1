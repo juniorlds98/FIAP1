{
 "cells": [
  {
   "cell_type": "markdown",
   "metadata": {},
   "source": [
    "# aula 5"
   ]
  },
  {
   "cell_type": "code",
   "execution_count": 6,
   "metadata": {},
   "outputs": [],
   "source": [
    "#A N >= 90\n",
    "#B 70 <= N < 90\n",
    "#C 50 <= N < 70\n",
    "#D N < 50\n",
    "\n",
    "nota = int(input(\"Digite a sua nota: \"))\n",
    "\n",
    "if nota >= 90:\n",
    "    conceito = \"A\"\n",
    "elif nota >= 70 and nota < 90:\n",
    "        conceito = \"B\"\n",
    "elif nota >= 50 and nota < 70:\n",
    "        conceito = \"C\"\n",
    "else:\n",
    "        conceito = \"D\""
   ]
  },
  {
   "cell_type": "code",
   "execution_count": 7,
   "metadata": {},
   "outputs": [
    {
     "data": {
      "text/plain": [
       "'A'"
      ]
     },
     "execution_count": 7,
     "metadata": {},
     "output_type": "execute_result"
    }
   ],
   "source": [
    "conceito"
   ]
  },
  {
   "cell_type": "markdown",
   "metadata": {},
   "source": [
    "## Calculadora basica"
   ]
  },
  {
   "cell_type": "code",
   "execution_count": 27,
   "metadata": {},
   "outputs": [
    {
     "name": "stdout",
     "output_type": "stream",
     "text": [
      "900\n"
     ]
    }
   ],
   "source": [
    "numero1 = int(input(\"Digite o primeiro valor: \"))\n",
    "numero2 = int(input(\"Digite o segundo valor: \"))\n",
    "operacao = (input(\"Qual operação você quer fazer, escolha entre (+, -, *, /): \"))\n",
    "if operacao == \"/\":\n",
    "    divisao = numero1 / numero2\n",
    "    print(divisao)\n",
    "elif operacao == \"*\":\n",
    "    multiplicacao = numero1 * numero2\n",
    "    print(multiplicacao)\n",
    "elif operacao == \"+\":\n",
    "    soma = numero1 + numero2\n",
    "    print(soma)\n",
    "elif operacao == \"-\":\n",
    "    subtracao = numero1 - numero2\n",
    "    print(subtracao)"
   ]
  },
  {
   "cell_type": "code",
   "execution_count": 31,
   "metadata": {},
   "outputs": [
    {
     "name": "stdout",
     "output_type": "stream",
     "text": [
      "Parabens, tu é burro ou teimoso 56 é a pior opção de todas!\n"
     ]
    }
   ],
   "source": [
    "opcoes = input(\"Escolha entre os números 1 a 5: \")\n",
    "if opcoes == \"1\":\n",
    "    print(f\"Parabens, você escolheu a opção {opcoes} a melhor das opções!\")\n",
    "elif opcoes == \"2\":\n",
    "    print(f\"Parabens, você escolheu a opção {opcoes} a melhor das opções!\")\n",
    "elif opcoes == \"3\":\n",
    "    print(f\"Parabens, você escolheu a opção {opcoes} a melhor das opções!\")\n",
    "elif opcoes == \"4\":\n",
    "    print(f\"Parabens, você escolheu a opção {opcoes} a melhor das opções!\")\n",
    "elif opcoes == \"5\":\n",
    "    print(f\"Parabens, você escolheu a opção {opcoes} a melhor das opções!\")\n",
    "else:\n",
    "    print(f\"Parabens, tu é burro ou teimoso {opcoes} é a pior opção de todas!\")"
   ]
  },
  {
   "cell_type": "code",
   "execution_count": 38,
   "metadata": {},
   "outputs": [
    {
     "name": "stdout",
     "output_type": "stream",
     "text": [
      "O valor da sua conta é R$:  380.90000000000003\n"
     ]
    }
   ],
   "source": [
    "kWh = int(input(\"Qual foi a quantidade de kWh: \"))\n",
    "tipo = input(\"Qual é o tipo do seu imovel, (residencial, comercial, industrial): \")\n",
    "if tipo == \"residencial\":\n",
    "    if kWh > 500:\n",
    "        print(\"O valor da sua conta é R$: \", kWh*0.65)\n",
    "    else:\n",
    "        print(\"O valor da sua conta é R$: \", kWh*0.40)\n",
    "elif tipo == \"comercial\":\n",
    "    if kWh > 1000:\n",
    "        print(\"O valor da sua conta é R$: \", kWh*0.60)\n",
    "    else:\n",
    "        print(\"O valor da sua conta é R$: \", kWh*0.55)\n",
    "elif tipo == \"industrial\":\n",
    "    if kWh > 5000:\n",
    "        print(\"O valor da sua conta é R$: \", kWh*0.60)\n",
    "    else:\n",
    "        print(\"O valor da sua conta é R$: \", kWh*0.55)"
   ]
  }
 ],
 "metadata": {
  "kernelspec": {
   "display_name": "Python 3",
   "language": "python",
   "name": "python3"
  },
  "language_info": {
   "codemirror_mode": {
    "name": "ipython",
    "version": 3
   },
   "file_extension": ".py",
   "mimetype": "text/x-python",
   "name": "python",
   "nbconvert_exporter": "python",
   "pygments_lexer": "ipython3",
   "version": "3.12.3"
  }
 },
 "nbformat": 4,
 "nbformat_minor": 2
}
