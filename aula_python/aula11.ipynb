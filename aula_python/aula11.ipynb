{
 "cells": [
  {
   "cell_type": "markdown",
   "metadata": {},
   "source": [
    "## Aula 11"
   ]
  },
  {
   "cell_type": "code",
   "execution_count": 1,
   "metadata": {},
   "outputs": [
    {
     "name": "stdout",
     "output_type": "stream",
     "text": [
      "Hello World\n"
     ]
    }
   ],
   "source": [
    "print(\"Hello World\")"
   ]
  },
  {
   "cell_type": "code",
   "execution_count": 2,
   "metadata": {},
   "outputs": [
    {
     "name": "stdout",
     "output_type": "stream",
     "text": [
      "6\n"
     ]
    }
   ],
   "source": [
    "def soma (a, b, c):\n",
    "    d = a + b + c\n",
    "    return d\n",
    "\n",
    "print(soma(1, 2, 3))"
   ]
  },
  {
   "cell_type": "code",
   "execution_count": 14,
   "metadata": {},
   "outputs": [
    {
     "name": "stdout",
     "output_type": "stream",
     "text": [
      "None\n"
     ]
    }
   ],
   "source": [
    "def mult(numero1, numero2):\n",
    "    if numero1 % numero2 == 0:\n",
    "        return True\n",
    "\n",
    "numero1 = int(input(\"Escolha o primeiro número: \"))\n",
    "numero2 = int(input(\"Escolha o primeiro número: \"))\n",
    "print(mult(numero1, numero2))\n"
   ]
  },
  {
   "cell_type": "code",
   "execution_count": null,
   "metadata": {},
   "outputs": [],
   "source": [
    "def soma(x):\n",
    "    a = str(x)\n",
    "    return len(x)\n",
    "\n",
    "print(soma(526))\n"
   ]
  },
  {
   "cell_type": "code",
   "execution_count": 34,
   "metadata": {},
   "outputs": [
    {
     "name": "stdout",
     "output_type": "stream",
     "text": [
      "2\n",
      "10\n"
     ]
    }
   ],
   "source": [
    "inteiros = [2, 5, 8, 10]\n",
    "menor = inteiros[0]\n",
    "maior = inteiros[0]\n",
    "\n",
    "for i in inteiros:\n",
    "    if i < menor:\n",
    "        menor = i\n",
    "    if i > maior:\n",
    "        maior = i\n",
    "\n",
    "print(menor)\n",
    "print(maior)\n"
   ]
  },
  {
   "cell_type": "code",
   "execution_count": 38,
   "metadata": {},
   "outputs": [
    {
     "name": "stdout",
     "output_type": "stream",
     "text": [
      "130\n"
     ]
    }
   ],
   "source": [
    "lista1 = [1, 2, 3, 4, 5,9,10,2,3,5,4,7]\n",
    "lista2 = [6, 7, 8, 9, 10]\n",
    "resultado = 0\n",
    "\n",
    "if len(lista1) <= len(lista2):\n",
    "    for i in range(len(lista1)):\n",
    "        resultado += lista1[i] * lista2[i]\n",
    "else:\n",
    "    for i in range(len(lista2)):\n",
    "        resultado += lista1[i] * lista2[i]\n",
    "print(resultado)\n",
    "\n",
    "\n"
   ]
  },
  {
   "cell_type": "code",
   "execution_count": null,
   "metadata": {},
   "outputs": [],
   "source": []
  }
 ],
 "metadata": {
  "kernelspec": {
   "display_name": "Python 3",
   "language": "python",
   "name": "python3"
  },
  "language_info": {
   "codemirror_mode": {
    "name": "ipython",
    "version": 3
   },
   "file_extension": ".py",
   "mimetype": "text/x-python",
   "name": "python",
   "nbconvert_exporter": "python",
   "pygments_lexer": "ipython3",
   "version": "3.12.3"
  }
 },
 "nbformat": 4,
 "nbformat_minor": 2
}
