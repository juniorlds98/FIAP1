{
 "cells": [
  {
   "cell_type": "markdown",
   "metadata": {},
   "source": [
    "Aula 02 2° Semestre"
   ]
  },
  {
   "cell_type": "code",
   "execution_count": null,
   "metadata": {},
   "outputs": [],
   "source": [
    "def juntaString(*frase):\n",
    "    texto = \"\"\n",
    "    for i in range(len(frase)):\n",
    "        if i < len(frase)-1:\n",
    "            texto += frase[i] + \" \"\n",
    "        else:\n",
    "            texto += frase[i]\n",
    "    return texto\n",
    "\n",
    "a = juntaString(\"Junior\", \"Silva\")\n",
    "print(a)\n"
   ]
  },
  {
   "cell_type": "code",
   "execution_count": 1,
   "metadata": {},
   "outputs": [
    {
     "name": "stdout",
     "output_type": "stream",
     "text": [
      "1.0\n"
     ]
    }
   ],
   "source": [
    "def media(*valores):\n",
    "    aux = 0\n",
    "    for i in valores:\n",
    "        aux += i\n",
    "    return aux / len(valores)\n",
    "\n",
    "a = media (1,1,1,1,1)\n",
    "print(a)"
   ]
  },
  {
   "cell_type": "markdown",
   "metadata": {},
   "source": [
    "Variáveis locais e globais"
   ]
  },
  {
   "cell_type": "markdown",
   "metadata": {},
   "source": [
    "Nas variáveis locais elas existirão só dentro da função, fora ela é inexistente"
   ]
  },
  {
   "cell_type": "markdown",
   "metadata": {},
   "source": [
    "Nas variáveis globais ela é visível por todas as funções e pode ser alterada por qualquer uma"
   ]
  },
  {
   "cell_type": "markdown",
   "metadata": {},
   "source": [
    "para chamar uma variável global em um código local é necessário somente colocar a descrição global (nome da variável)"
   ]
  },
  {
   "cell_type": "code",
   "execution_count": null,
   "metadata": {},
   "outputs": [],
   "source": [
    "def banco():\n",
    "    print(\"Bem vindo ao BB\")\n",
    "    saldo = 0\n",
    "    depositoContador = 0\n",
    "    sacarContador = 0\n",
    "    extratoContador = 0\n",
    "    global saldoFinal\n",
    "    \n",
    "    while True:\n",
    "        escolha = int(input(\"Escolha a sua função: [1 - Depositar, 2 - Sacar, 3 - Extrato, 0 - Sair]\"))\n",
    "        \n",
    "        if escolha == 1:\n",
    "            deposito = float(input(\"Qual valor você gostaria de depositar: \"))\n",
    "            deposito += saldo\n",
    "            saldoFinal += deposito\n",
    "            depositoContador += 1\n",
    "            print(f\"O seu saldo anterior era de R${saldo}, após depositar R${deposito} você ficou com {saldoFinal}\")\n",
    "        elif escolha == 2:\n",
    "            sacar = float(input(\"Qual valor você gostaria de sacar: \"))\n",
    "            sacar -= saldo\n",
    "            saldoFinal -= sacar\n",
    "            sacarContador += 1\n",
    "            print(f\"O seu saldo anterior era de R${saldo}, após sacar R${sacar} você ficou com {saldoFinal}\")\n",
    "        elif escolha == 3:\n",
    "            extratoContador += 1\n",
    "            print(f\"O valor em conta é R${saldoFinal}\")\n",
    "        elif escolha == 0:\n",
    "            print(\"Até logo!\")\n",
    "            break\n",
    "            print(f\"Você fez {depositoContador} depositos, sacou {sacarContador} vezes e olhou seu saldo {extratoContador} vezes\")\n",
    "        else:\n",
    "            print(\"Escolha uma operação valida\")\n",
    "\n",
    "saldoFinal = 2100.00\n",
    "\n",
    "banco()"
   ]
  }
 ],
 "metadata": {
  "kernelspec": {
   "display_name": "Python 3",
   "language": "python",
   "name": "python3"
  },
  "language_info": {
   "codemirror_mode": {
    "name": "ipython",
    "version": 3
   },
   "file_extension": ".py",
   "mimetype": "text/x-python",
   "name": "python",
   "nbconvert_exporter": "python",
   "pygments_lexer": "ipython3",
   "version": "3.12.3"
  }
 },
 "nbformat": 4,
 "nbformat_minor": 2
}
