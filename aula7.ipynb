{
 "cells": [
  {
   "cell_type": "markdown",
   "metadata": {},
   "source": [
    "## Correção"
   ]
  },
  {
   "cell_type": "code",
   "execution_count": 1,
   "metadata": {},
   "outputs": [
    {
     "name": "stdout",
     "output_type": "stream",
     "text": [
      "Seja bem vindo a Frutaria ES, a melhor frutaria online do Brasil!!!\n"
     ]
    },
    {
     "ename": "ValueError",
     "evalue": "invalid literal for int() with base 10: ''",
     "output_type": "error",
     "traceback": [
      "\u001b[1;31m---------------------------------------------------------------------------\u001b[0m",
      "\u001b[1;31mValueError\u001b[0m                                Traceback (most recent call last)",
      "Cell \u001b[1;32mIn[1], line 4\u001b[0m\n\u001b[0;32m      2\u001b[0m endereco \u001b[38;5;241m=\u001b[39m \u001b[38;5;28minput\u001b[39m(\u001b[38;5;124m\"\u001b[39m\u001b[38;5;124mQual é seu endereço: \u001b[39m\u001b[38;5;124m\"\u001b[39m)\n\u001b[0;32m      3\u001b[0m nome \u001b[38;5;241m=\u001b[39m \u001b[38;5;28minput\u001b[39m(\u001b[38;5;124m\"\u001b[39m\u001b[38;5;124mQual é seu nome: \u001b[39m\u001b[38;5;124m\"\u001b[39m)\n\u001b[1;32m----> 4\u001b[0m dataDeNascimento \u001b[38;5;241m=\u001b[39m \u001b[38;5;28;43mint\u001b[39;49m\u001b[43m(\u001b[49m\u001b[38;5;28;43minput\u001b[39;49m\u001b[43m(\u001b[49m\u001b[38;5;124;43m\"\u001b[39;49m\u001b[38;5;124;43mQual seu ano de nascimento: \u001b[39;49m\u001b[38;5;124;43m\"\u001b[39;49m\u001b[43m)\u001b[49m\u001b[43m)\u001b[49m\n\u001b[0;32m      6\u001b[0m venda \u001b[38;5;241m=\u001b[39m \u001b[38;5;124m\"\"\"\u001b[39m\n\u001b[0;32m      7\u001b[0m \u001b[38;5;124m------------------------------\u001b[39m\n\u001b[0;32m      8\u001b[0m \u001b[38;5;124m|ID -- Fruta --- Preço (R$/KG)|\u001b[39m\n\u001b[1;32m   (...)\u001b[0m\n\u001b[0;32m     14\u001b[0m \u001b[38;5;124m------------------------------\u001b[39m\n\u001b[0;32m     15\u001b[0m \u001b[38;5;124m\"\"\"\u001b[39m\n\u001b[0;32m     16\u001b[0m \u001b[38;5;28mprint\u001b[39m()\n",
      "\u001b[1;31mValueError\u001b[0m: invalid literal for int() with base 10: ''"
     ]
    }
   ],
   "source": [
    "print(\"Seja bem vindo a Frutaria ES, a melhor frutaria online do Brasil!!!\")\n",
    "endereco = input(\"Qual é seu endereço: \")\n",
    "nome = input(\"Qual é seu nome: \")\n",
    "dataDeNascimento = int(input(\"Qual seu ano de nascimento: \"))\n",
    "\n",
    "venda = \"\"\"\n",
    "------------------------------\n",
    "|ID -- Fruta --- Preço (R$/KG)|\n",
    "|A -- Banana --- 5.50         |\n",
    "|B -- Laranja --- 3.25        | \n",
    "|C -- Uva --- 7.80            |\n",
    "|D -- Maça --- 5.40           |\n",
    "|E -- Caqui --- 17.20         | \n",
    "------------------------------\n",
    "\"\"\"\n",
    "print()\n",
    "print(\"Temos disponíveis hoje as seguintes frutas\")\n",
    "print(venda)\n",
    "\n",
    "opcoes = input(\"Digite o ID da fruta que você deseja comprar: \")\n",
    "kg = float(input(\"Digite a quantidade em kg que você deseja: \"))\n",
    "\n",
    "if opcoes == \"A\":\n",
    "    fruta = 5.5\n",
    "elif opcoes == \"B\":\n",
    "    fruta = 3.25\n",
    "elif opcoes == \"C\":\n",
    "    fruta = 7.80\n",
    "elif opcoes == \"D\":\n",
    "    fruta = 5.40\n",
    "elif opcoes == \"E\":\n",
    "    fruta = 17.20\n",
    "else:\n",
    "    fruta = 0\n",
    "    print('fruta indisponivel')\n",
    "\n",
    "valor = kg*fruta\n",
    "frete = 5.0\n",
    "if valor < 15:\n",
    "    valor += frete\n",
    "\n",
    "idade = 2024 - dataDeNascimento\n",
    "if idade > 60:\n",
    "    valor = valor*0.95\n",
    "    print(\"Olha, acabei de ver no sistema e você tem um desconto de 5% na compra!\")\n",
    "\n",
    "print(f\"{nome}, agradecemos a preferência\")\n",
    "print(f\"Sua compra será entregue em, {endereco}\")\n",
    "print(f\"O valor total é, {valor}\")"
   ]
  },
  {
   "cell_type": "markdown",
   "metadata": {},
   "source": [
    "## Exercícios"
   ]
  },
  {
   "cell_type": "code",
   "execution_count": 18,
   "metadata": {},
   "outputs": [
    {
     "name": "stdout",
     "output_type": "stream",
     "text": [
      "292.0\n"
     ]
    }
   ],
   "source": [
    "x = float(input(\"Digite um valor para X: \"))\n",
    "\n",
    "if x >= 0 and x <= 2:\n",
    "    y = x\n",
    "elif x > 2 and x <= 3.5:\n",
    "    y = 2\n",
    "elif x > 3.5 and x <= 5:\n",
    "    y = 3\n",
    "elif x > 5:\n",
    "    y = x**2 - 10*x + 28\n",
    "\n",
    "print(y)"
   ]
  },
  {
   "cell_type": "markdown",
   "metadata": {},
   "source": [
    "## Variável sinalizadora\n",
    "\n",
    "##### Podemos usar para armazenar um estado de programa\n",
    "##### Por padrão ela sempre será true e de acordo com o tempo ou com os problemas ela muda para False"
   ]
  },
  {
   "cell_type": "code",
   "execution_count": null,
   "metadata": {},
   "outputs": [],
   "source": []
  },
  {
   "cell_type": "markdown",
   "metadata": {},
   "source": [
    "## F strings"
   ]
  },
  {
   "cell_type": "code",
   "execution_count": 21,
   "metadata": {},
   "outputs": [
    {
     "name": "stdout",
     "output_type": "stream",
     "text": [
      "Maria tem 18 anos\n"
     ]
    }
   ],
   "source": [
    "x = 18\n",
    "a = \"Maria tem %d anos\"%x\n",
    "a\n",
    "\n",
    "#Ou\n",
    "\n",
    "print(f\"Maria tem {x} anos\")"
   ]
  },
  {
   "cell_type": "markdown",
   "metadata": {},
   "source": [
    "- %d Numeros inteiros\n",
    "- %s Strings\n",
    "- %f Numeros decimais"
   ]
  },
  {
   "cell_type": "code",
   "execution_count": 25,
   "metadata": {},
   "outputs": [
    {
     "name": "stdout",
     "output_type": "stream",
     "text": [
      "Meu nome é Junior, tenho 26 anos e meu lanche preferido é o Big Mac que custa R$32.99\n"
     ]
    }
   ],
   "source": [
    "nome = input(\"Digite seu nome: \")\n",
    "idade = int(input(\"Digite a sua idade: \"))\n",
    "precoDoLanche = float(input(\"Digite o preço do seu lanche preferido: \"))\n",
    "txt = \"Meu nome é %s, tenho %d anos e meu lanche preferido é o Big Mac que custa R$%.2f\" %(nome, idade, precoDoLanche)\n",
    "print(txt)"
   ]
  },
  {
   "cell_type": "markdown",
   "metadata": {},
   "source": [
    "- Composição nova forma"
   ]
  },
  {
   "cell_type": "code",
   "execution_count": 27,
   "metadata": {},
   "outputs": [
    {
     "name": "stdout",
     "output_type": "stream",
     "text": [
      "Meu nome é Junior, tenho 26 anos e meu lanche preferido é o Big Mac que custa R$32.99\n"
     ]
    }
   ],
   "source": [
    "nome = input(\"Digite seu nome: \")\n",
    "idade = int(input(\"Digite a sua idade: \"))\n",
    "precoDoLanche = float(input(\"Digite o preço do seu lanche preferido: \"))\n",
    "txt = \"Meu nome é {}, tenho {} anos e meu lanche preferido é o Big Mac que custa R${}\".format(nome, idade, precoDoLanche) \n",
    "print(txt)"
   ]
  },
  {
   "cell_type": "markdown",
   "metadata": {},
   "source": [
    "- f.strings"
   ]
  },
  {
   "cell_type": "code",
   "execution_count": 28,
   "metadata": {},
   "outputs": [
    {
     "name": "stdout",
     "output_type": "stream",
     "text": [
      "Meu nome é Junior, tenho 26 anos e meu lanche preferido é o Big Mac que custa R$32.99\n"
     ]
    }
   ],
   "source": [
    "nome = input(\"Digite seu nome: \")\n",
    "idade = int(input(\"Digite a sua idade: \"))\n",
    "precoDoLanche = float(input(\"Digite o preço do seu lanche preferido: \"))\n",
    "txt = f\"Meu nome é {nome}, tenho {idade} anos e meu lanche preferido é o Big Mac que custa R${precoDoLanche}\" \n",
    "print(txt)"
   ]
  },
  {
   "cell_type": "code",
   "execution_count": 67,
   "metadata": {},
   "outputs": [
    {
     "name": "stdout",
     "output_type": "stream",
     "text": [
      "|ID-- --Fruta-- --Preço (R$/KG)|\n",
      "|A-- --Banana-- --5.50|\n",
      "|B-- --Laranja-- --3.25|\n"
     ]
    }
   ],
   "source": [
    "venda = \"\"\"\n",
    "------------------------------\n",
    "|ID -- Fruta --- Preço (R$/KG)|\n",
    "|A -- Banana --- 5.50         |\n",
    "|B -- Laranja --- 3.25        | \n",
    "|C -- Uva --- 7.80            |\n",
    "|D -- Maça --- 5.40           |\n",
    "|E -- Caqui --- 17.20         | \n",
    "------------------------------\n",
    "\"\"\"\n",
    "print(f\"|{\"ID\":-<4s} {\"Fruta\":-^9s} {\"Preço (R$/KG)\":->15s}|\")\n",
    "print(f\"|{\"A\":-<3s} {\"Banana\":-^10s} {\"5.50\":->6s}|\")\n",
    "print(f\"|{\"B\":-<3s} {\"Laranja\":-^11s} {\"3.25\":->6s}|\")   "
   ]
  },
  {
   "cell_type": "markdown",
   "metadata": {},
   "source": [
    "## Tipos de string\n",
    "- A atribuição de qualquer variável vai dentro de \"\"\n",
    "- Para saber o tamanho de uma string use a propriedade len"
   ]
  },
  {
   "cell_type": "code",
   "execution_count": 68,
   "metadata": {},
   "outputs": [
    {
     "name": "stdout",
     "output_type": "stream",
     "text": [
      "Hoje tem aula tem 13 caracteres\n"
     ]
    }
   ],
   "source": [
    "a = 'Hoje tem aula'\n",
    "print(f\"{a} tem {len(a)} caracteres\")"
   ]
  },
  {
   "cell_type": "markdown",
   "metadata": {},
   "source": [
    "## Indexação de código\n",
    "- Em python tudo começa com 0\n",
    "- Serve para acessar cada índice e valor de cada item da variável"
   ]
  },
  {
   "cell_type": "code",
   "execution_count": 69,
   "metadata": {},
   "outputs": [
    {
     "name": "stdout",
     "output_type": "stream",
     "text": [
      "Hoje tem aula\n",
      "H\n"
     ]
    }
   ],
   "source": [
    "a = 'Hoje tem aula\"!'\n",
    "print(a)\n",
    "print(a[0])"
   ]
  },
  {
   "cell_type": "markdown",
   "metadata": {},
   "source": [
    "#### E se eu não souber o valor?\n",
    "- Contar de forma contrária ajuda"
   ]
  },
  {
   "cell_type": "code",
   "execution_count": 88,
   "metadata": {},
   "outputs": [
    {
     "name": "stdout",
     "output_type": "stream",
     "text": [
      "!\n",
      "tem\n",
      "tem aula!\n",
      "Hoje tem a\n",
      "Hj e\n",
      "!alua met ejoH\n"
     ]
    }
   ],
   "source": [
    "a = 'Hoje tem aula!'\n",
    "print(a[len(a)-1])\n",
    "\n",
    "#ou\n",
    "\n",
    "print(a[5:8])\n",
    "\n",
    "#ou\n",
    "\n",
    "print(a[5:])\n",
    "#vai até o final\n",
    "\n",
    "print(a[:10])\n",
    "#vai até o limite\n",
    "\n",
    "print(a[0:8:2])\n",
    "#o terceiro valor significa o tempo que esta andando ou pulando a quantidade de valores\n",
    "print(a[::-1])"
   ]
  },
  {
   "cell_type": "code",
   "execution_count": 89,
   "metadata": {},
   "outputs": [
    {
     "name": "stdout",
     "output_type": "stream",
     "text": [
      "Bna\n"
     ]
    }
   ],
   "source": [
    "palavra = input(\"Escolha qualquer palavra\")\n",
    "print(palavra[::2])"
   ]
  },
  {
   "cell_type": "code",
   "execution_count": 90,
   "metadata": {},
   "outputs": [
    {
     "name": "stdout",
     "output_type": "stream",
     "text": [
      "ud\n"
     ]
    }
   ],
   "source": [
    "palavra = input(\"Escolha qualquer palavra\")\n",
    "print(palavra[1::2])"
   ]
  },
  {
   "cell_type": "code",
   "execution_count": 113,
   "metadata": {},
   "outputs": [
    {
     "data": {
      "text/plain": [
       "'65'"
      ]
     },
     "execution_count": 113,
     "metadata": {},
     "output_type": "execute_result"
    }
   ],
   "source": [
    "numero1 = str(input(\"Escolha o primeiro numero: \"))\n",
    "numero2 = str(input(\"Escolha o segundo numero: \"))\n",
    "calculo = numero1 + numero2\n",
    "tamanho = len(calculo)\n",
    "calculo[tamanho-2:]"
   ]
  },
  {
   "cell_type": "code",
   "execution_count": 110,
   "metadata": {},
   "outputs": [
    {
     "data": {
      "text/plain": [
       "'da'"
      ]
     },
     "execution_count": 110,
     "metadata": {},
     "output_type": "execute_result"
    }
   ],
   "source": [
    "palavra = input(\"Escreva uma palavra: \")\n",
    "tamanho = len(palavra)\n",
    "palavra[tamanho -2:]"
   ]
  },
  {
   "cell_type": "code",
   "execution_count": 111,
   "metadata": {},
   "outputs": [
    {
     "name": "stdout",
     "output_type": "stream",
     "text": [
      "É um palindromo\n"
     ]
    }
   ],
   "source": [
    "palavra = \"mirim\"\n",
    "if palavra == palavra [::-1]:\n",
    "    print('É um palindromo')\n",
    "else:\n",
    "    print('Não é um palindromo')\n"
   ]
  },
  {
   "cell_type": "markdown",
   "metadata": {},
   "source": [
    "## Repetições"
   ]
  },
  {
   "cell_type": "code",
   "execution_count": null,
   "metadata": {},
   "outputs": [],
   "source": [
    "A\n",
    "10\n",
    "5\n",
    "10\n",
    "\n",
    "B\n",
    "9\n",
    "4\n",
    "9"
   ]
  }
 ],
 "metadata": {
  "kernelspec": {
   "display_name": "Python 3",
   "language": "python",
   "name": "python3"
  },
  "language_info": {
   "codemirror_mode": {
    "name": "ipython",
    "version": 3
   },
   "file_extension": ".py",
   "mimetype": "text/x-python",
   "name": "python",
   "nbconvert_exporter": "python",
   "pygments_lexer": "ipython3",
   "version": "3.12.3"
  }
 },
 "nbformat": 4,
 "nbformat_minor": 2
}
