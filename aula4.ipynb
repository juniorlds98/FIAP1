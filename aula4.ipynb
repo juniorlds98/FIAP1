{
 "cells": [
  {
   "cell_type": "code",
   "execution_count": 2,
   "metadata": {},
   "outputs": [
    {
     "name": "stdout",
     "output_type": "stream",
     "text": [
      "Junin play\n"
     ]
    }
   ],
   "source": [
    "nome = input(\"Digite seu nome: \")\n",
    "print(nome)"
   ]
  },
  {
   "cell_type": "markdown",
   "metadata": {},
   "source": [
    "# Exercícios"
   ]
  },
  {
   "cell_type": "markdown",
   "metadata": {},
   "source": [
    "## Nome e idade"
   ]
  },
  {
   "cell_type": "code",
   "execution_count": 4,
   "metadata": {},
   "outputs": [
    {
     "name": "stdout",
     "output_type": "stream",
     "text": [
      "meu nome é Junior e tenho 26 anos de idade\n"
     ]
    }
   ],
   "source": [
    "nome = input(\"Digite seu nome\")\n",
    "idade = input(\"Digite sua idade\")\n",
    "print(f\"meu nome é {nome} e tenho {idade} anos de idade\")"
   ]
  },
  {
   "cell_type": "markdown",
   "metadata": {},
   "source": [
    "## Soma de números inteiros"
   ]
  },
  {
   "cell_type": "code",
   "execution_count": 5,
   "metadata": {},
   "outputs": [
    {
     "name": "stdout",
     "output_type": "stream",
     "text": [
      "5\n"
     ]
    }
   ],
   "source": [
    "numero1 = int(input(\"Digite um número inteiro\"))\n",
    "numero2 = int(input(\"Digite um segundo número inteiro\"))\n",
    "soma = numero1 + numero2\n",
    "print(soma)"
   ]
  },
  {
   "cell_type": "markdown",
   "metadata": {},
   "source": [
    "## Calculo de valor bonus"
   ]
  },
  {
   "cell_type": "code",
   "execution_count": 7,
   "metadata": {},
   "outputs": [
    {
     "name": "stdout",
     "output_type": "stream",
     "text": [
      "25000.0\n"
     ]
    }
   ],
   "source": [
    "anos = float(input(\"Digite quantos anos você trabalhou na empresa\"))\n",
    "valorPorAno = 2000\n",
    "bonus = anos * valorPorAno\n",
    "print(f\"O bonus será: {bonus} R$\")"
   ]
  },
  {
   "cell_type": "markdown",
   "metadata": {},
   "source": [
    "## Calcular metros em mm"
   ]
  },
  {
   "cell_type": "code",
   "execution_count": 9,
   "metadata": {},
   "outputs": [
    {
     "name": "stdout",
     "output_type": "stream",
     "text": [
      "A sua metragem deu 5000.0 em milimetros\n"
     ]
    }
   ],
   "source": [
    "metros = float(input(\"Digite um valor em metros\"))\n",
    "milimetros = 1000\n",
    "valorEmMilimetros = metros * milimetros\n",
    "print(f\"A sua metragem deu {valorEmMilimetros} em milimetros\")"
   ]
  },
  {
   "cell_type": "markdown",
   "metadata": {},
   "source": [
    "## Tempo de viagem a partir de distância e velocidade média"
   ]
  },
  {
   "cell_type": "code",
   "execution_count": 13,
   "metadata": {},
   "outputs": [
    {
     "name": "stdout",
     "output_type": "stream",
     "text": [
      "Você irá percorrer a sua viagêm no tempo médio de: 2.0 horas\n"
     ]
    }
   ],
   "source": [
    "velocidadeMedia = float(input(\"Digite qual sua velocidade média\"))\n",
    "distancia = float(input(\"Qual a distância da sua viagem em km\"))\n",
    "tempoDeViagem = distancia / velocidadeMedia\n",
    "print(f\"Você irá percorrer a sua viagêm no tempo médio de: {tempoDeViagem} horas\")"
   ]
  },
  {
   "cell_type": "markdown",
   "metadata": {},
   "source": [
    "## Valor do carro em quantidade de dias alugados"
   ]
  },
  {
   "cell_type": "code",
   "execution_count": 15,
   "metadata": {},
   "outputs": [
    {
     "name": "stdout",
     "output_type": "stream",
     "text": [
      "O preço do aluguel do seu carro foi de R$:420.0 e você gastou R$:27.0 em quilômetros rodados\n",
      "O preço total foi de 447.0\n"
     ]
    }
   ],
   "source": [
    "kmPercorridos = float(input(\"Quantos km você percorreu com o carro?\"))\n",
    "diasAlugados = float(input(\"Quantos dias você ficou com o carro?\"))\n",
    "precoCarro = 60\n",
    "kmRodado = 0.15\n",
    "precoAluguel = precoCarro * diasAlugados\n",
    "kmTotal = kmRodado * kmPercorridos\n",
    "precoTotal = kmTotal + precoAluguel\n",
    "print(f\"O preço do aluguel do seu carro foi de R$:{precoAluguel} e você gastou R$:{kmTotal} em quilômetros rodados\")\n",
    "print(f\"O preço total foi de R$:{precoTotal}\")"
   ]
  },
  {
   "cell_type": "code",
   "execution_count": 18,
   "metadata": {},
   "outputs": [
    {
     "name": "stdout",
     "output_type": "stream",
     "text": [
      "As paridades destoam\n"
     ]
    }
   ],
   "source": [
    "num1 = float(input(\"Escreva um número inteiro: \"))\n",
    "num2 = float(input(\"Escreva o segundo número inteiro: \"))\n",
    "\n",
    "num1 = num1%2 == 0\n",
    "num2 = num2%2 == 0\n",
    "if(num1 == num2):\n",
    "    print(\"As paridades são iguais\")\n",
    "else:\n",
    "    print(\"As paridades destoam\")\n"
   ]
  }
 ],
 "metadata": {
  "kernelspec": {
   "display_name": "Python 3",
   "language": "python",
   "name": "python3"
  },
  "language_info": {
   "codemirror_mode": {
    "name": "ipython",
    "version": 3
   },
   "file_extension": ".py",
   "mimetype": "text/x-python",
   "name": "python",
   "nbconvert_exporter": "python",
   "pygments_lexer": "ipython3",
   "version": "3.12.3"
  }
 },
 "nbformat": 4,
 "nbformat_minor": 2
}
