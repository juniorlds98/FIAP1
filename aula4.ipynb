{
 "cells": [
  {
   "cell_type": "code",
   "execution_count": 2,
   "metadata": {},
   "outputs": [
    {
     "name": "stdout",
     "output_type": "stream",
     "text": [
      "Junin play\n"
     ]
    }
   ],
   "source": [
    "nome = input(\"Digite seu nome: \")\n",
    "print(nome)"
   ]
  },
  {
   "cell_type": "markdown",
   "metadata": {},
   "source": [
    "# Exercícios"
   ]
  },
  {
   "cell_type": "markdown",
   "metadata": {},
   "source": [
    "## Nome e idade"
   ]
  },
  {
   "cell_type": "code",
   "execution_count": 4,
   "metadata": {},
   "outputs": [
    {
     "name": "stdout",
     "output_type": "stream",
     "text": [
      "meu nome é Junior e tenho 26 anos de idade\n"
     ]
    }
   ],
   "source": [
    "nome = input(\"Digite seu nome\")\n",
    "idade = input(\"Digite sua idade\")\n",
    "print(f\"meu nome é {nome} e tenho {idade} anos de idade\")"
   ]
  },
  {
   "cell_type": "markdown",
   "metadata": {},
   "source": [
    "## Soma de números inteiros"
   ]
  },
  {
   "cell_type": "code",
   "execution_count": 5,
   "metadata": {},
   "outputs": [
    {
     "name": "stdout",
     "output_type": "stream",
     "text": [
      "5\n"
     ]
    }
   ],
   "source": [
    "numero1 = int(input(\"Digite um número inteiro\"))\n",
    "numero2 = int(input(\"Digite um segundo número inteiro\"))\n",
    "soma = numero1 + numero2\n",
    "print(soma)"
   ]
  },
  {
   "cell_type": "markdown",
   "metadata": {},
   "source": [
    "## Calculo de valor bonus"
   ]
  },
  {
   "cell_type": "code",
   "execution_count": 7,
   "metadata": {},
   "outputs": [
    {
     "name": "stdout",
     "output_type": "stream",
     "text": [
      "25000.0\n"
     ]
    }
   ],
   "source": [
    "anos = float(input(\"Digite quantos anos você trabalhou na empresa\"))\n",
    "valorPorAno = 2000\n",
    "bonus = anos * valorPorAno\n",
    "print(f\"O bonus será: {bonus} R$\")"
   ]
  },
  {
   "cell_type": "markdown",
   "metadata": {},
   "source": [
    "## Calcular metros em mm"
   ]
  },
  {
   "cell_type": "code",
   "execution_count": 9,
   "metadata": {},
   "outputs": [
    {
     "name": "stdout",
     "output_type": "stream",
     "text": [
      "A sua metragem deu 5000.0 em milimetros\n"
     ]
    }
   ],
   "source": [
    "metros = float(input(\"Digite um valor em metros\"))\n",
    "milimetros = 1000\n",
    "valorEmMilimetros = metros * milimetros\n",
    "print(f\"A sua metragem deu {valorEmMilimetros} em milimetros\")"
   ]
  },
  {
   "cell_type": "markdown",
   "metadata": {},
   "source": [
    "## Tempo de viagem a partir de distância e velocidade média"
   ]
  },
  {
   "cell_type": "code",
   "execution_count": 13,
   "metadata": {},
   "outputs": [
    {
     "name": "stdout",
     "output_type": "stream",
     "text": [
      "Você irá percorrer a sua viagêm no tempo médio de: 2.0 horas\n"
     ]
    }
   ],
   "source": [
    "velocidadeMedia = float(input(\"Digite qual sua velocidade média\"))\n",
    "distancia = float(input(\"Qual a distância da sua viagem em km\"))\n",
    "tempoDeViagem = distancia / velocidadeMedia\n",
    "print(f\"Você irá percorrer a sua viagêm no tempo médio de: {tempoDeViagem} horas\")"
   ]
  },
  {
   "cell_type": "markdown",
   "metadata": {},
   "source": [
    "## Valor do carro em quantidade de dias alugados"
   ]
  },
  {
   "cell_type": "code",
   "execution_count": 15,
   "metadata": {},
   "outputs": [
    {
     "name": "stdout",
     "output_type": "stream",
     "text": [
      "O preço do aluguel do seu carro foi de R$:420.0 e você gastou R$:27.0 em quilômetros rodados\n",
      "O preço total foi de 447.0\n"
     ]
    }
   ],
   "source": [
    "kmPercorridos = float(input(\"Quantos km você percorreu com o carro?\"))\n",
    "diasAlugados = float(input(\"Quantos dias você ficou com o carro?\"))\n",
    "precoCarro = 60\n",
    "kmRodado = 0.15\n",
    "precoAluguel = precoCarro * diasAlugados\n",
    "kmTotal = kmRodado * kmPercorridos\n",
    "precoTotal = kmTotal + precoAluguel\n",
    "print(f\"O preço do aluguel do seu carro foi de R$:{precoAluguel} e você gastou R$:{kmTotal} em quilômetros rodados\")\n",
    "print(f\"O preço total foi de R$:{precoTotal}\")"
   ]
  },
  {
   "cell_type": "markdown",
   "metadata": {},
   "source": [
    "## Descobrir paridades entre números e retornar valor boolean"
   ]
  },
  {
   "cell_type": "code",
   "execution_count": 18,
   "metadata": {},
   "outputs": [
    {
     "name": "stdout",
     "output_type": "stream",
     "text": [
      "As paridades destoam\n"
     ]
    }
   ],
   "source": [
    "num1 = float(input(\"Escreva um número inteiro: \"))\n",
    "num2 = float(input(\"Escreva o segundo número inteiro: \"))\n",
    "\n",
    "num1 = num1%2 == 0\n",
    "num2 = num2%2 == 0\n",
    "if(num1 == num2):\n",
    "    print(\"As paridades são iguais\")\n",
    "else:\n",
    "    print(\"As paridades destoam\")\n"
   ]
  },
  {
   "cell_type": "code",
   "execution_count": null,
   "metadata": {},
   "outputs": [],
   "source": [
    "num1 = float(input(\"Escreva um número inteiro: \"))\n",
    "num2 = float(input(\"Escreva o segundo número inteiro: \"))\n",
    "\n",
    "res = (num1%2==0 and num2%2==1) or (num1%2==1 and num2%2==0)\n",
    "\n",
    "print(res)"
   ]
  },
  {
   "cell_type": "code",
   "execution_count": null,
   "metadata": {},
   "outputs": [],
   "source": [
    "num1 = float(input(\"Escreva um número inteiro: \"))\n",
    "num2 = float(input(\"Escreva o segundo número inteiro: \"))\n",
    "\n",
    "res = num1%2 != n2%2\n",
    "\n",
    "print(res)"
   ]
  },
  {
   "cell_type": "markdown",
   "metadata": {},
   "source": [
    "## Condições"
   ]
  },
  {
   "cell_type": "code",
   "execution_count": 26,
   "metadata": {},
   "outputs": [
    {
     "name": "stdout",
     "output_type": "stream",
     "text": [
      "Os números são iguais\n"
     ]
    }
   ],
   "source": [
    "num1 = float(input(\"Escreva um número: \"))\n",
    "num2 = float(input(\"Escreva mais um número: \"))\n",
    "if(num1>num2):\n",
    "    print(\"O número 1 é maior\")\n",
    "elif(num1==num2):\n",
    "    print(\"Os números são iguais\")\n",
    "else:\n",
    "    print(\"O número 2 é maior\")\n",
    "\n"
   ]
  },
  {
   "cell_type": "code",
   "execution_count": 31,
   "metadata": {},
   "outputs": [
    {
     "name": "stdout",
     "output_type": "stream",
     "text": [
      "Você está acima do limite de velocidade, foi cobrado R$: 40.0\n"
     ]
    }
   ],
   "source": [
    "velocidadeCarro = float(input(\"Qual a velocidade do seu carro em KM: \"))\n",
    "limiteVelocidade = 80\n",
    "valorMulta = 5\n",
    "if (velocidadeCarro > 80):\n",
    "    print(f\"Você está acima do limite de velocidade, foi cobrado R$: {(velocidadeCarro - limiteVelocidade) * valorMulta}\")"
   ]
  },
  {
   "cell_type": "code",
   "execution_count": 33,
   "metadata": {},
   "outputs": [
    {
     "name": "stdout",
     "output_type": "stream",
     "text": [
      "Você está apto a receber o empréstimo\n"
     ]
    }
   ],
   "source": [
    "salario = float(input(\"Qual o valor do seu salário: \"))\n",
    "idade = float(input(\"Qual é a sua idade\"))\n",
    "salarioMinimo = 1500\n",
    "idadeMinima = 18\n",
    "if(salario > salarioMinimo and idade > idadeMinima):\n",
    "    print(\"Você está apto a receber o empréstimo\")\n",
    "elif(salario > salarioMinimo and idade < idadeMinima):\n",
    "    print(\"Falta idade para você ficar apto para o empréstimo\")\n",
    "else:\n",
    "    print(\"Você não está apto a receber o empréstimo por seu salário\")"
   ]
  },
  {
   "cell_type": "code",
   "execution_count": 36,
   "metadata": {},
   "outputs": [
    {
     "name": "stdout",
     "output_type": "stream",
     "text": [
      "Você não está apto a receber o empréstimo por seu salário\n"
     ]
    }
   ],
   "source": [
    "salario = 8000\n",
    "idade = 19\n",
    "salarioMinimo = 1500\n",
    "idadeMinima = 18\n",
    "if(salario > salarioMinimo == idade > idadeMinima):\n",
    "    print(\"Você está apto a receber o empréstimo\")\n",
    "elif(idade < idadeMinima):\n",
    "    if(salario<salarioMinimo):\n",
    "        print(\"Você é um ferrado, sem dinheiro e sem idade\")\n",
    "    else:\n",
    "     print(\"Falta idade para você ficar apto para o empréstimo\")\n",
    "else:\n",
    "    print(\"Você não está apto a receber o empréstimo por seu salário\")"
   ]
  },
  {
   "cell_type": "code",
   "execution_count": 38,
   "metadata": {},
   "outputs": [
    {
     "name": "stdout",
     "output_type": "stream",
     "text": [
      "Impar\n",
      "Número maior que 100\n"
     ]
    }
   ],
   "source": [
    "numero = 150\n",
    "if (numero%20):\n",
    "    print(\"Impar\")\n",
    "    if (numero>100):\n",
    "        print(\"Número maior que 100\")\n",
    "    else:\n",
    "        print(\"Número menor que 100\")\n",
    "else:\n",
    "    print(\"Par\")\n",
    "    if (numero>100):\n",
    "        print(\"Maior que cem\")\n",
    "    else:\n",
    "        print(\"Menor que cem\")"
   ]
  },
  {
   "cell_type": "code",
   "execution_count": null,
   "metadata": {},
   "outputs": [],
   "source": []
  }
 ],
 "metadata": {
  "kernelspec": {
   "display_name": "Python 3",
   "language": "python",
   "name": "python3"
  },
  "language_info": {
   "codemirror_mode": {
    "name": "ipython",
    "version": 3
   },
   "file_extension": ".py",
   "mimetype": "text/x-python",
   "name": "python",
   "nbconvert_exporter": "python",
   "pygments_lexer": "ipython3",
   "version": "3.12.3"
  }
 },
 "nbformat": 4,
 "nbformat_minor": 2
}
